{
  "nbformat": 4,
  "nbformat_minor": 0,
  "metadata": {
    "colab": {
      "provenance": [],
      "authorship_tag": "ABX9TyPWhqCxw6r9DxVtxAsBG60u",
      "include_colab_link": true
    },
    "kernelspec": {
      "name": "python3",
      "display_name": "Python 3"
    },
    "language_info": {
      "name": "python"
    }
  },
  "cells": [
    {
      "cell_type": "markdown",
      "metadata": {
        "id": "view-in-github",
        "colab_type": "text"
      },
      "source": [
        "<a href=\"https://colab.research.google.com/github/gvikas79/Spark-Tutorials/blob/main/Pyspark_task2.ipynb\" target=\"_parent\"><img src=\"https://colab.research.google.com/assets/colab-badge.svg\" alt=\"Open In Colab\"/></a>"
      ]
    },
    {
      "cell_type": "code",
      "execution_count": 1,
      "metadata": {
        "colab": {
          "base_uri": "https://localhost:8080/"
        },
        "id": "oWq-Og9-SuH9",
        "outputId": "be184220-5b89-4ecc-d21e-a941f3004387"
      },
      "outputs": [
        {
          "output_type": "stream",
          "name": "stdout",
          "text": [
            "Sample Practice DataFrame:\n",
            "+--------+-----------+----------+--------+------+----------+---------------------+----------------------+------------------+--------------------------------------+----------------------+\n",
            "|order_id|customer_id|product   |quantity|price |order_date|tags                 |details               |features          |product_attributes                    |related_products      |\n",
            "+--------+-----------+----------+--------+------+----------+---------------------+----------------------+------------------+--------------------------------------+----------------------+\n",
            "|1       |101        |Laptop    |1       |1200.0|2023-01-15|electronics,office   |Serial: A1B2C3D4      |user_123_laptop   |{color -> silver, brand -> XYZ}       |Keyboard,Mouse,Monitor|\n",
            "|2       |102        |Mouse     |2       |25.5  |2023-01-15|electronics,accessory|Model: M500           |user_456_mouse    |{color -> black, wireless -> true}    |Laptop,Monitor        |\n",
            "|3       |101        |Keyboard  |1       |75.0  |2023-01-16|electronics,accessory|SKU: KB-101           |id_789_keyboard   |{layout -> US, mechanical -> false}   |Mouse,Monitor         |\n",
            "|4       |103        |Monitor   |1       |300.0 |2023-01-16|electronics,display  |DisplaySize: 27inch   |user_123_monitor  |{size -> 27, resolution -> 1080p}     |Laptop,Keyboard       |\n",
            "|5       |102        |Desk Chair|1       |150.0 |2023-01-17|furniture,office     |Weight: 20kg          |user_456_chair    |{material -> mesh, adjustable -> true}|Desk,Lamp             |\n",
            "|6       |104        |Lamp      |2       |35.0  |2023-01-17|furniture,lighting   |BulbType: LED         |id_abc_lamp       |NULL                                  |Desk Chair,Desk       |\n",
            "|7       |101        |Laptop    |1       |1200.0|2023-01-18|electronics,office   |Serial: E5F6G7H8      |user_123_laptop   |{color -> silver, brand -> XYZ}       |Keyboard,Mouse,Monitor|\n",
            "|8       |105        |Notebook  |5       |3.0   |2023-01-18|office,stationery    |Pages: 100            |user_xyz_notebook |{}                                    |Pen,Pencil            |\n",
            "|9       |103        |Desk      |1       |250.0 |2023-01-19|furniture,office     |Material: Wood        |user_789_desk     |{size -> medium}                      |Desk Chair,Lamp       |\n",
            "|10      |104        |Pen       |10      |1.5   |2023-01-19|office,stationery    |InkColor: Blue        |id_def_pen        |{color -> blue}                       |Notebook,Pencil       |\n",
            "|11      |105        |Pencil    |12      |0.5   |2023-01-20|office,stationery    |LeadSize: 0.7mm       |user_xyz_pencil   |{lead -> 0.7}                         |Notebook,Pen          |\n",
            "|12      |106        |Tablet    |1       |400.0 |2023-01-20|electronics          |Model: Tab-Pro        |user_abc_tablet   |{os -> Android}                       |NULL                  |\n",
            "|13      |106        |Protector |1       |15.0  |2023-01-20|electronics,accessory|Type: Screen          |user_abc_protector|{}                                    |                      |\n",
            "|14      |101        |Mouse     |1       |25.5  |2023-01-21|electronics,accessory|Model: M600           |user_101_mouse    |{color -> white, wireless -> false}   |Keyboard              |\n",
            "|15      |102        |Laptop    |1       |1100.0|2023-01-21|electronics,office   |Serial: I9J10K11L12   |user_102_laptop   |{color -> black, brand -> UVW}        |Mouse,Monitor         |\n",
            "|16      |103        |Keyboard  |2       |70.0  |2023-01-22|electronics,accessory|SKU: KB-202           |user_103_keyboard |{layout -> UK, mechanical -> true}    |Mouse                 |\n",
            "|17      |104        |Desk      |1       |220.0 |2023-01-22|furniture,office     |Material: Metal       |user_104_desk     |{size -> large}                       |Chair                 |\n",
            "|18      |105        |Lamp      |1       |30.0  |2023-01-23|furniture,lighting   |BulbType: Incandescent|user_105_lamp     |NULL                                  |Desk                  |\n",
            "|19      |106        |Notebook  |3       |2.5   |2023-01-23|office,stationery    |Pages: 150            |user_106_notebook |{}                                    |Pen,Pencil            |\n",
            "|20      |101        |Monitor   |1       |280.0 |2023-01-24|electronics,display  |DisplaySize: 24inch   |user_101_monitor  |{size -> 24, resolution -> 1080p}     |Laptop                |\n",
            "+--------+-----------+----------+--------+------+----------+---------------------+----------------------+------------------+--------------------------------------+----------------------+\n",
            "\n",
            "root\n",
            " |-- order_id: integer (nullable = true)\n",
            " |-- customer_id: integer (nullable = true)\n",
            " |-- product: string (nullable = true)\n",
            " |-- quantity: integer (nullable = true)\n",
            " |-- price: double (nullable = true)\n",
            " |-- order_date: date (nullable = true)\n",
            " |-- tags: string (nullable = true)\n",
            " |-- details: string (nullable = true)\n",
            " |-- features: string (nullable = true)\n",
            " |-- product_attributes: map (nullable = true)\n",
            " |    |-- key: string\n",
            " |    |-- value: string (valueContainsNull = true)\n",
            " |-- related_products: string (nullable = true)\n",
            "\n"
          ]
        }
      ],
      "source": [
        "from pyspark.sql import SparkSession\n",
        "from pyspark.sql.types import StructType, StructField, IntegerType, StringType, DoubleType, DateType, MapType\n",
        "from datetime import date\n",
        "\n",
        "# Assume spark is already created\n",
        "spark = SparkSession.builder.appName(\"PracticeDataset\").getOrCreate()\n",
        "\n",
        "# Define the schema\n",
        "schema = StructType([\n",
        "    StructField(\"order_id\", IntegerType(), True),\n",
        "    StructField(\"customer_id\", IntegerType(), True),\n",
        "    StructField(\"product\", StringType(), True),\n",
        "    StructField(\"quantity\", IntegerType(), True),\n",
        "    StructField(\"price\", DoubleType(), True),\n",
        "    StructField(\"order_date\", DateType(), True),\n",
        "    StructField(\"tags\", StringType(), True), # For split() and regex examples\n",
        "    StructField(\"details\", StringType(), True), # For translate(), substring() examples\n",
        "    StructField(\"features\", StringType(), True), # For regexp_extract(), regexp_replace() examples\n",
        "    StructField(\"product_attributes\", MapType(StringType(), StringType()), True), # For MapType, explode, map_keys, map_values\n",
        "    StructField(\"related_products\", StringType(), True) # For collect_list, collect_set\n",
        "])\n",
        "\n",
        "# Sample data\n",
        "data = [\n",
        "    (1, 101, \"Laptop\", 1, 1200.00, date(2023, 1, 15), \"electronics,office\", \"Serial: A1B2C3D4\", \"user_123_laptop\", {\"color\": \"silver\", \"brand\": \"XYZ\"}, \"Keyboard,Mouse,Monitor\"),\n",
        "    (2, 102, \"Mouse\", 2, 25.50, date(2023, 1, 15), \"electronics,accessory\", \"Model: M500\", \"user_456_mouse\", {\"color\": \"black\", \"wireless\": \"true\"}, \"Laptop,Monitor\"),\n",
        "    (3, 101, \"Keyboard\", 1, 75.00, date(2023, 1, 16), \"electronics,accessory\", \"SKU: KB-101\", \"id_789_keyboard\", {\"layout\": \"US\", \"mechanical\": \"false\"}, \"Mouse,Monitor\"),\n",
        "    (4, 103, \"Monitor\", 1, 300.00, date(2023, 1, 16), \"electronics,display\", \"DisplaySize: 27inch\", \"user_123_monitor\", {\"size\": \"27\", \"resolution\": \"1080p\"}, \"Laptop,Keyboard\"),\n",
        "    (5, 102, \"Desk Chair\", 1, 150.00, date(2023, 1, 17), \"furniture,office\", \"Weight: 20kg\", \"user_456_chair\", {\"material\": \"mesh\", \"adjustable\": \"true\"}, \"Desk,Lamp\"),\n",
        "    (6, 104, \"Lamp\", 2, 35.00, date(2023, 1, 17), \"furniture,lighting\", \"BulbType: LED\", \"id_abc_lamp\", None, \"Desk Chair,Desk\"), # Example with None map\n",
        "    (7, 101, \"Laptop\", 1, 1200.00, date(2023, 1, 18), \"electronics,office\", \"Serial: E5F6G7H8\", \"user_123_laptop\", {\"color\": \"silver\", \"brand\": \"XYZ\"}, \"Keyboard,Mouse,Monitor\"), # Duplicate order\n",
        "    (8, 105, \"Notebook\", 5, 3.00, date(2023, 1, 18), \"office,stationery\", \"Pages: 100\", \"user_xyz_notebook\", {}, \"Pen,Pencil\"), # Example with empty map\n",
        "    (9, 103, \"Desk\", 1, 250.00, date(2023, 1, 19), \"furniture,office\", \"Material: Wood\", \"user_789_desk\", {\"size\": \"medium\"}, \"Desk Chair,Lamp\"),\n",
        "    (10, 104, \"Pen\", 10, 1.50, date(2023, 1, 19), \"office,stationery\", \"InkColor: Blue\", \"id_def_pen\", {\"color\": \"blue\"}, \"Notebook,Pencil\"),\n",
        "    (11, 105, \"Pencil\", 12, 0.50, date(2023, 1, 20), \"office,stationery\", \"LeadSize: 0.7mm\", \"user_xyz_pencil\", {\"lead\": \"0.7\"}, \"Notebook,Pen\"),\n",
        "    (12, 106, \"Tablet\", 1, 400.00, date(2023, 1, 20), \"electronics\", \"Model: Tab-Pro\", \"user_abc_tablet\", {\"os\": \"Android\"}, None), # Example with None related_products\n",
        "    (13, 106, \"Protector\", 1, 15.00, date(2023, 1, 20), \"electronics,accessory\", \"Type: Screen\", \"user_abc_protector\", {}, \"\"), # Example with empty related_products\n",
        "    # Added new rows\n",
        "    (14, 101, \"Mouse\", 1, 25.50, date(2023, 1, 21), \"electronics,accessory\", \"Model: M600\", \"user_101_mouse\", {\"color\": \"white\", \"wireless\": \"false\"}, \"Keyboard\"),\n",
        "    (15, 102, \"Laptop\", 1, 1100.00, date(2023, 1, 21), \"electronics,office\", \"Serial: I9J10K11L12\", \"user_102_laptop\", {\"color\": \"black\", \"brand\": \"UVW\"}, \"Mouse,Monitor\"),\n",
        "    (16, 103, \"Keyboard\", 2, 70.00, date(2023, 1, 22), \"electronics,accessory\", \"SKU: KB-202\", \"user_103_keyboard\", {\"layout\": \"UK\", \"mechanical\": \"true\"}, \"Mouse\"),\n",
        "    (17, 104, \"Desk\", 1, 220.00, date(2023, 1, 22), \"furniture,office\", \"Material: Metal\", \"user_104_desk\", {\"size\": \"large\"}, \"Chair\"),\n",
        "    (18, 105, \"Lamp\", 1, 30.00, date(2023, 1, 23), \"furniture,lighting\", \"BulbType: Incandescent\", \"user_105_lamp\", None, \"Desk\"),\n",
        "    (19, 106, \"Notebook\", 3, 2.50, date(2023, 1, 23), \"office,stationery\", \"Pages: 150\", \"user_106_notebook\", {}, \"Pen,Pencil\"),\n",
        "    (20, 101, \"Monitor\", 1, 280.00, date(2023, 1, 24), \"electronics,display\", \"DisplaySize: 24inch\", \"user_101_monitor\", {\"size\": \"24\", \"resolution\": \"1080p\"}, \"Laptop\")\n",
        "]\n",
        "\n",
        "practice_df = spark.createDataFrame(data, schema)\n",
        "\n",
        "# Show the DataFrame and its schema\n",
        "print(\"Sample Practice DataFrame:\")\n",
        "practice_df.show(truncate=False)\n",
        "practice_df.printSchema()"
      ]
    },
    {
      "cell_type": "code",
      "source": [
        "from os import truncate\n",
        "#Extract each individual tag from the tags column and create a new row for each tag, keeping the order_id.\n",
        "from pyspark.sql.functions import col, explode, split\n",
        "\n",
        "df_exploded_tags = practice_df.select(col(\"order_id\"), explode(split(col(\"tags\"), \",\")).alias(\"tag\"))\n",
        "df_exploded_tags.show(truncate= False)"
      ],
      "metadata": {
        "colab": {
          "base_uri": "https://localhost:8080/"
        },
        "id": "iUBl_ASiSxYi",
        "outputId": "053d9d02-32d8-4c0d-cab5-84e619a02612"
      },
      "execution_count": 2,
      "outputs": [
        {
          "output_type": "stream",
          "name": "stdout",
          "text": [
            "+--------+-----------+\n",
            "|order_id|tag        |\n",
            "+--------+-----------+\n",
            "|1       |electronics|\n",
            "|1       |office     |\n",
            "|2       |electronics|\n",
            "|2       |accessory  |\n",
            "|3       |electronics|\n",
            "|3       |accessory  |\n",
            "|4       |electronics|\n",
            "|4       |display    |\n",
            "|5       |furniture  |\n",
            "|5       |office     |\n",
            "|6       |furniture  |\n",
            "|6       |lighting   |\n",
            "|7       |electronics|\n",
            "|7       |office     |\n",
            "|8       |office     |\n",
            "|8       |stationery |\n",
            "|9       |furniture  |\n",
            "|9       |office     |\n",
            "|10      |office     |\n",
            "|10      |stationery |\n",
            "+--------+-----------+\n",
            "only showing top 20 rows\n",
            "\n"
          ]
        }
      ]
    },
    {
      "cell_type": "code",
      "source": [
        "#Count how many orders belong to each unique tag.\n",
        "\n",
        "df_tag_counts = df_exploded_tags.groupBy(\"tag\").count()\n",
        "df_tag_counts.show()\n"
      ],
      "metadata": {
        "colab": {
          "base_uri": "https://localhost:8080/"
        },
        "id": "EHhHFrcGVjBd",
        "outputId": "75b34b6c-90e7-4bad-a7a7-9eb10644d482"
      },
      "execution_count": 3,
      "outputs": [
        {
          "output_type": "stream",
          "name": "stdout",
          "text": [
            "+-----------+-----+\n",
            "|        tag|count|\n",
            "+-----------+-----+\n",
            "|     office|   10|\n",
            "|    display|    2|\n",
            "| stationery|    4|\n",
            "|   lighting|    2|\n",
            "|  furniture|    5|\n",
            "|electronics|   11|\n",
            "|  accessory|    5|\n",
            "+-----------+-----+\n",
            "\n"
          ]
        }
      ]
    },
    {
      "cell_type": "code",
      "source": [
        "#From the details column, extract the serial number (e.g., \"A1B2C3D4\") for products where the detail starts with \"Serial: \".\n",
        "\n",
        "from pyspark.sql.functions import regexp_extract\n",
        "\n",
        "df_details_serial = practice_df.withColumn(\"ID\", regexp_extract(col(\"details\"), r\"Serial: (.*)\", 1))\n"
      ],
      "metadata": {
        "id": "dvs3mcmMXDFu"
      },
      "execution_count": 4,
      "outputs": []
    },
    {
      "cell_type": "code",
      "source": [
        "df_details_serial.show()"
      ],
      "metadata": {
        "colab": {
          "base_uri": "https://localhost:8080/"
        },
        "id": "bUrUHgJsakGB",
        "outputId": "e5a94551-e465-482d-9529-7cb63b4998da"
      },
      "execution_count": 5,
      "outputs": [
        {
          "output_type": "stream",
          "name": "stdout",
          "text": [
            "+--------+-----------+----------+--------+------+----------+--------------------+--------------------+------------------+--------------------+--------------------+-----------+\n",
            "|order_id|customer_id|   product|quantity| price|order_date|                tags|             details|          features|  product_attributes|    related_products|         ID|\n",
            "+--------+-----------+----------+--------+------+----------+--------------------+--------------------+------------------+--------------------+--------------------+-----------+\n",
            "|       1|        101|    Laptop|       1|1200.0|2023-01-15|  electronics,office|    Serial: A1B2C3D4|   user_123_laptop|{color -> silver,...|Keyboard,Mouse,Mo...|   A1B2C3D4|\n",
            "|       2|        102|     Mouse|       2|  25.5|2023-01-15|electronics,acces...|         Model: M500|    user_456_mouse|{color -> black, ...|      Laptop,Monitor|           |\n",
            "|       3|        101|  Keyboard|       1|  75.0|2023-01-16|electronics,acces...|         SKU: KB-101|   id_789_keyboard|{layout -> US, me...|       Mouse,Monitor|           |\n",
            "|       4|        103|   Monitor|       1| 300.0|2023-01-16| electronics,display| DisplaySize: 27inch|  user_123_monitor|{size -> 27, reso...|     Laptop,Keyboard|           |\n",
            "|       5|        102|Desk Chair|       1| 150.0|2023-01-17|    furniture,office|        Weight: 20kg|    user_456_chair|{material -> mesh...|           Desk,Lamp|           |\n",
            "|       6|        104|      Lamp|       2|  35.0|2023-01-17|  furniture,lighting|       BulbType: LED|       id_abc_lamp|                NULL|     Desk Chair,Desk|           |\n",
            "|       7|        101|    Laptop|       1|1200.0|2023-01-18|  electronics,office|    Serial: E5F6G7H8|   user_123_laptop|{color -> silver,...|Keyboard,Mouse,Mo...|   E5F6G7H8|\n",
            "|       8|        105|  Notebook|       5|   3.0|2023-01-18|   office,stationery|          Pages: 100| user_xyz_notebook|                  {}|          Pen,Pencil|           |\n",
            "|       9|        103|      Desk|       1| 250.0|2023-01-19|    furniture,office|      Material: Wood|     user_789_desk|    {size -> medium}|     Desk Chair,Lamp|           |\n",
            "|      10|        104|       Pen|      10|   1.5|2023-01-19|   office,stationery|      InkColor: Blue|        id_def_pen|     {color -> blue}|     Notebook,Pencil|           |\n",
            "|      11|        105|    Pencil|      12|   0.5|2023-01-20|   office,stationery|     LeadSize: 0.7mm|   user_xyz_pencil|       {lead -> 0.7}|        Notebook,Pen|           |\n",
            "|      12|        106|    Tablet|       1| 400.0|2023-01-20|         electronics|      Model: Tab-Pro|   user_abc_tablet|     {os -> Android}|                NULL|           |\n",
            "|      13|        106| Protector|       1|  15.0|2023-01-20|electronics,acces...|        Type: Screen|user_abc_protector|                  {}|                    |           |\n",
            "|      14|        101|     Mouse|       1|  25.5|2023-01-21|electronics,acces...|         Model: M600|    user_101_mouse|{color -> white, ...|            Keyboard|           |\n",
            "|      15|        102|    Laptop|       1|1100.0|2023-01-21|  electronics,office| Serial: I9J10K11L12|   user_102_laptop|{color -> black, ...|       Mouse,Monitor|I9J10K11L12|\n",
            "|      16|        103|  Keyboard|       2|  70.0|2023-01-22|electronics,acces...|         SKU: KB-202| user_103_keyboard|{layout -> UK, me...|               Mouse|           |\n",
            "|      17|        104|      Desk|       1| 220.0|2023-01-22|    furniture,office|     Material: Metal|     user_104_desk|     {size -> large}|               Chair|           |\n",
            "|      18|        105|      Lamp|       1|  30.0|2023-01-23|  furniture,lighting|BulbType: Incande...|     user_105_lamp|                NULL|                Desk|           |\n",
            "|      19|        106|  Notebook|       3|   2.5|2023-01-23|   office,stationery|          Pages: 150| user_106_notebook|                  {}|          Pen,Pencil|           |\n",
            "|      20|        101|   Monitor|       1| 280.0|2023-01-24| electronics,display| DisplaySize: 24inch|  user_101_monitor|{size -> 24, reso...|              Laptop|           |\n",
            "+--------+-----------+----------+--------+------+----------+--------------------+--------------------+------------------+--------------------+--------------------+-----------+\n",
            "\n"
          ]
        }
      ]
    },
    {
      "cell_type": "code",
      "source": [
        "#From the features column, extract the numeric ID (e.g., \"123\") that appears after \"user_\".\n",
        "\n",
        "from pyspark.sql.functions import regexp_replace\n",
        "\n",
        "df_replaced_user= practice_df.select(col(\"features\"), regexp_replace(col(\"features\"), \"id_\", \"user_\").alias(\"replaced_features\"))\n",
        "df_replaced_user.show()\n",
        "df_user_extractID = df_replaced_user.withColumn(\"extracted_id\", regexp_extract(col(\"replaced_features\"), r\"user_(.*)\", 1))\n",
        "df_user_extractID.show()"
      ],
      "metadata": {
        "colab": {
          "base_uri": "https://localhost:8080/"
        },
        "id": "ysEXHCHKaz6X",
        "outputId": "abca3255-bf2f-4d62-8b0e-4af0d6eafd20"
      },
      "execution_count": 6,
      "outputs": [
        {
          "output_type": "stream",
          "name": "stdout",
          "text": [
            "+------------------+------------------+\n",
            "|          features| replaced_features|\n",
            "+------------------+------------------+\n",
            "|   user_123_laptop|   user_123_laptop|\n",
            "|    user_456_mouse|    user_456_mouse|\n",
            "|   id_789_keyboard| user_789_keyboard|\n",
            "|  user_123_monitor|  user_123_monitor|\n",
            "|    user_456_chair|    user_456_chair|\n",
            "|       id_abc_lamp|     user_abc_lamp|\n",
            "|   user_123_laptop|   user_123_laptop|\n",
            "| user_xyz_notebook| user_xyz_notebook|\n",
            "|     user_789_desk|     user_789_desk|\n",
            "|        id_def_pen|      user_def_pen|\n",
            "|   user_xyz_pencil|   user_xyz_pencil|\n",
            "|   user_abc_tablet|   user_abc_tablet|\n",
            "|user_abc_protector|user_abc_protector|\n",
            "|    user_101_mouse|    user_101_mouse|\n",
            "|   user_102_laptop|   user_102_laptop|\n",
            "| user_103_keyboard| user_103_keyboard|\n",
            "|     user_104_desk|     user_104_desk|\n",
            "|     user_105_lamp|     user_105_lamp|\n",
            "| user_106_notebook| user_106_notebook|\n",
            "|  user_101_monitor|  user_101_monitor|\n",
            "+------------------+------------------+\n",
            "\n",
            "+------------------+------------------+-------------+\n",
            "|          features| replaced_features| extracted_id|\n",
            "+------------------+------------------+-------------+\n",
            "|   user_123_laptop|   user_123_laptop|   123_laptop|\n",
            "|    user_456_mouse|    user_456_mouse|    456_mouse|\n",
            "|   id_789_keyboard| user_789_keyboard| 789_keyboard|\n",
            "|  user_123_monitor|  user_123_monitor|  123_monitor|\n",
            "|    user_456_chair|    user_456_chair|    456_chair|\n",
            "|       id_abc_lamp|     user_abc_lamp|     abc_lamp|\n",
            "|   user_123_laptop|   user_123_laptop|   123_laptop|\n",
            "| user_xyz_notebook| user_xyz_notebook| xyz_notebook|\n",
            "|     user_789_desk|     user_789_desk|     789_desk|\n",
            "|        id_def_pen|      user_def_pen|      def_pen|\n",
            "|   user_xyz_pencil|   user_xyz_pencil|   xyz_pencil|\n",
            "|   user_abc_tablet|   user_abc_tablet|   abc_tablet|\n",
            "|user_abc_protector|user_abc_protector|abc_protector|\n",
            "|    user_101_mouse|    user_101_mouse|    101_mouse|\n",
            "|   user_102_laptop|   user_102_laptop|   102_laptop|\n",
            "| user_103_keyboard| user_103_keyboard| 103_keyboard|\n",
            "|     user_104_desk|     user_104_desk|     104_desk|\n",
            "|     user_105_lamp|     user_105_lamp|     105_lamp|\n",
            "| user_106_notebook| user_106_notebook| 106_notebook|\n",
            "|  user_101_monitor|  user_101_monitor|  101_monitor|\n",
            "+------------------+------------------+-------------+\n",
            "\n"
          ]
        }
      ]
    },
    {
      "cell_type": "code",
      "source": [
        "#Create a new column by removing all vowels (both uppercase and lowercase) from the details column.\n",
        "\n",
        "from pyspark.sql.functions import translate\n",
        "df_removed_vowels = practice_df.withColumn(\"removed_vowels\", translate(col(\"details\"), \"aeiouAEIOU\", \"\"))\n",
        "\n",
        "df_removed_vowels.show()"
      ],
      "metadata": {
        "colab": {
          "base_uri": "https://localhost:8080/"
        },
        "id": "o-Ow9vpfdTYG",
        "outputId": "75ff91d6-442a-4b5b-be86-f00a2ba28cb1"
      },
      "execution_count": 7,
      "outputs": [
        {
          "output_type": "stream",
          "name": "stdout",
          "text": [
            "+--------+-----------+----------+--------+------+----------+--------------------+--------------------+------------------+--------------------+--------------------+----------------+\n",
            "|order_id|customer_id|   product|quantity| price|order_date|                tags|             details|          features|  product_attributes|    related_products|  removed_vowels|\n",
            "+--------+-----------+----------+--------+------+----------+--------------------+--------------------+------------------+--------------------+--------------------+----------------+\n",
            "|       1|        101|    Laptop|       1|1200.0|2023-01-15|  electronics,office|    Serial: A1B2C3D4|   user_123_laptop|{color -> silver,...|Keyboard,Mouse,Mo...|    Srl: 1B2C3D4|\n",
            "|       2|        102|     Mouse|       2|  25.5|2023-01-15|electronics,acces...|         Model: M500|    user_456_mouse|{color -> black, ...|      Laptop,Monitor|       Mdl: M500|\n",
            "|       3|        101|  Keyboard|       1|  75.0|2023-01-16|electronics,acces...|         SKU: KB-101|   id_789_keyboard|{layout -> US, me...|       Mouse,Monitor|      SK: KB-101|\n",
            "|       4|        103|   Monitor|       1| 300.0|2023-01-16| electronics,display| DisplaySize: 27inch|  user_123_monitor|{size -> 27, reso...|     Laptop,Keyboard|  DsplySz: 27nch|\n",
            "|       5|        102|Desk Chair|       1| 150.0|2023-01-17|    furniture,office|        Weight: 20kg|    user_456_chair|{material -> mesh...|           Desk,Lamp|      Wght: 20kg|\n",
            "|       6|        104|      Lamp|       2|  35.0|2023-01-17|  furniture,lighting|       BulbType: LED|       id_abc_lamp|                NULL|     Desk Chair,Desk|      BlbTyp: LD|\n",
            "|       7|        101|    Laptop|       1|1200.0|2023-01-18|  electronics,office|    Serial: E5F6G7H8|   user_123_laptop|{color -> silver,...|Keyboard,Mouse,Mo...|    Srl: 5F6G7H8|\n",
            "|       8|        105|  Notebook|       5|   3.0|2023-01-18|   office,stationery|          Pages: 100| user_xyz_notebook|                  {}|          Pen,Pencil|        Pgs: 100|\n",
            "|       9|        103|      Desk|       1| 250.0|2023-01-19|    furniture,office|      Material: Wood|     user_789_desk|    {size -> medium}|     Desk Chair,Lamp|        Mtrl: Wd|\n",
            "|      10|        104|       Pen|      10|   1.5|2023-01-19|   office,stationery|      InkColor: Blue|        id_def_pen|     {color -> blue}|     Notebook,Pencil|       nkClr: Bl|\n",
            "|      11|        105|    Pencil|      12|   0.5|2023-01-20|   office,stationery|     LeadSize: 0.7mm|   user_xyz_pencil|       {lead -> 0.7}|        Notebook,Pen|     LdSz: 0.7mm|\n",
            "|      12|        106|    Tablet|       1| 400.0|2023-01-20|         electronics|      Model: Tab-Pro|   user_abc_tablet|     {os -> Android}|                NULL|      Mdl: Tb-Pr|\n",
            "|      13|        106| Protector|       1|  15.0|2023-01-20|electronics,acces...|        Type: Screen|user_abc_protector|                  {}|                    |       Typ: Scrn|\n",
            "|      14|        101|     Mouse|       1|  25.5|2023-01-21|electronics,acces...|         Model: M600|    user_101_mouse|{color -> white, ...|            Keyboard|       Mdl: M600|\n",
            "|      15|        102|    Laptop|       1|1100.0|2023-01-21|  electronics,office| Serial: I9J10K11L12|   user_102_laptop|{color -> black, ...|       Mouse,Monitor| Srl: 9J10K11L12|\n",
            "|      16|        103|  Keyboard|       2|  70.0|2023-01-22|electronics,acces...|         SKU: KB-202| user_103_keyboard|{layout -> UK, me...|               Mouse|      SK: KB-202|\n",
            "|      17|        104|      Desk|       1| 220.0|2023-01-22|    furniture,office|     Material: Metal|     user_104_desk|     {size -> large}|               Chair|       Mtrl: Mtl|\n",
            "|      18|        105|      Lamp|       1|  30.0|2023-01-23|  furniture,lighting|BulbType: Incande...|     user_105_lamp|                NULL|                Desk|BlbTyp: ncndscnt|\n",
            "|      19|        106|  Notebook|       3|   2.5|2023-01-23|   office,stationery|          Pages: 150| user_106_notebook|                  {}|          Pen,Pencil|        Pgs: 150|\n",
            "|      20|        101|   Monitor|       1| 280.0|2023-01-24| electronics,display| DisplaySize: 24inch|  user_101_monitor|{size -> 24, reso...|              Laptop|  DsplySz: 24nch|\n",
            "+--------+-----------+----------+--------+------+----------+--------------------+--------------------+------------------+--------------------+--------------------+----------------+\n",
            "\n"
          ]
        }
      ]
    },
    {
      "cell_type": "code",
      "source": [
        "#Extract the first 5 characters of the features column.\n",
        "from pyspark.sql.functions import substring\n",
        "\n",
        "df_first_5_chars = practice_df.withColumn(\"first_5_chars\", substring(col(\"features\"), 1, 5))\n",
        "df_first_5_chars.show()\n"
      ],
      "metadata": {
        "colab": {
          "base_uri": "https://localhost:8080/"
        },
        "id": "WZPke0DnzdIJ",
        "outputId": "c8786619-e153-4296-aaaf-5f248dba6fd3"
      },
      "execution_count": 8,
      "outputs": [
        {
          "output_type": "stream",
          "name": "stdout",
          "text": [
            "+--------+-----------+----------+--------+------+----------+--------------------+--------------------+------------------+--------------------+--------------------+-------------+\n",
            "|order_id|customer_id|   product|quantity| price|order_date|                tags|             details|          features|  product_attributes|    related_products|first_5_chars|\n",
            "+--------+-----------+----------+--------+------+----------+--------------------+--------------------+------------------+--------------------+--------------------+-------------+\n",
            "|       1|        101|    Laptop|       1|1200.0|2023-01-15|  electronics,office|    Serial: A1B2C3D4|   user_123_laptop|{color -> silver,...|Keyboard,Mouse,Mo...|        user_|\n",
            "|       2|        102|     Mouse|       2|  25.5|2023-01-15|electronics,acces...|         Model: M500|    user_456_mouse|{color -> black, ...|      Laptop,Monitor|        user_|\n",
            "|       3|        101|  Keyboard|       1|  75.0|2023-01-16|electronics,acces...|         SKU: KB-101|   id_789_keyboard|{layout -> US, me...|       Mouse,Monitor|        id_78|\n",
            "|       4|        103|   Monitor|       1| 300.0|2023-01-16| electronics,display| DisplaySize: 27inch|  user_123_monitor|{size -> 27, reso...|     Laptop,Keyboard|        user_|\n",
            "|       5|        102|Desk Chair|       1| 150.0|2023-01-17|    furniture,office|        Weight: 20kg|    user_456_chair|{material -> mesh...|           Desk,Lamp|        user_|\n",
            "|       6|        104|      Lamp|       2|  35.0|2023-01-17|  furniture,lighting|       BulbType: LED|       id_abc_lamp|                NULL|     Desk Chair,Desk|        id_ab|\n",
            "|       7|        101|    Laptop|       1|1200.0|2023-01-18|  electronics,office|    Serial: E5F6G7H8|   user_123_laptop|{color -> silver,...|Keyboard,Mouse,Mo...|        user_|\n",
            "|       8|        105|  Notebook|       5|   3.0|2023-01-18|   office,stationery|          Pages: 100| user_xyz_notebook|                  {}|          Pen,Pencil|        user_|\n",
            "|       9|        103|      Desk|       1| 250.0|2023-01-19|    furniture,office|      Material: Wood|     user_789_desk|    {size -> medium}|     Desk Chair,Lamp|        user_|\n",
            "|      10|        104|       Pen|      10|   1.5|2023-01-19|   office,stationery|      InkColor: Blue|        id_def_pen|     {color -> blue}|     Notebook,Pencil|        id_de|\n",
            "|      11|        105|    Pencil|      12|   0.5|2023-01-20|   office,stationery|     LeadSize: 0.7mm|   user_xyz_pencil|       {lead -> 0.7}|        Notebook,Pen|        user_|\n",
            "|      12|        106|    Tablet|       1| 400.0|2023-01-20|         electronics|      Model: Tab-Pro|   user_abc_tablet|     {os -> Android}|                NULL|        user_|\n",
            "|      13|        106| Protector|       1|  15.0|2023-01-20|electronics,acces...|        Type: Screen|user_abc_protector|                  {}|                    |        user_|\n",
            "|      14|        101|     Mouse|       1|  25.5|2023-01-21|electronics,acces...|         Model: M600|    user_101_mouse|{color -> white, ...|            Keyboard|        user_|\n",
            "|      15|        102|    Laptop|       1|1100.0|2023-01-21|  electronics,office| Serial: I9J10K11L12|   user_102_laptop|{color -> black, ...|       Mouse,Monitor|        user_|\n",
            "|      16|        103|  Keyboard|       2|  70.0|2023-01-22|electronics,acces...|         SKU: KB-202| user_103_keyboard|{layout -> UK, me...|               Mouse|        user_|\n",
            "|      17|        104|      Desk|       1| 220.0|2023-01-22|    furniture,office|     Material: Metal|     user_104_desk|     {size -> large}|               Chair|        user_|\n",
            "|      18|        105|      Lamp|       1|  30.0|2023-01-23|  furniture,lighting|BulbType: Incande...|     user_105_lamp|                NULL|                Desk|        user_|\n",
            "|      19|        106|  Notebook|       3|   2.5|2023-01-23|   office,stationery|          Pages: 150| user_106_notebook|                  {}|          Pen,Pencil|        user_|\n",
            "|      20|        101|   Monitor|       1| 280.0|2023-01-24| electronics,display| DisplaySize: 24inch|  user_101_monitor|{size -> 24, reso...|              Laptop|        user_|\n",
            "+--------+-----------+----------+--------+------+----------+--------------------+--------------------+------------------+--------------------+--------------------+-------------+\n",
            "\n"
          ]
        }
      ]
    },
    {
      "cell_type": "code",
      "source": [
        "#Create a new column that combines the product and quantity columns into a single string like \"Laptop (1)\".\n",
        "\n",
        "from pyspark.sql.functions import concat, lit\n",
        "\n",
        "df_combined_product_quantity = practice_df.withColumn(\"product_quantity\", concat(col(\"product\"), lit(\" (\"), col(\"quantity\"), lit(\")\")))\n",
        "df_combined_product_quantity.show()\n"
      ],
      "metadata": {
        "colab": {
          "base_uri": "https://localhost:8080/"
        },
        "id": "TS8ECeiL378H",
        "outputId": "4bd6cae9-324a-40db-b277-c4f6654f52b1"
      },
      "execution_count": 9,
      "outputs": [
        {
          "output_type": "stream",
          "name": "stdout",
          "text": [
            "+--------+-----------+----------+--------+------+----------+--------------------+--------------------+------------------+--------------------+--------------------+----------------+\n",
            "|order_id|customer_id|   product|quantity| price|order_date|                tags|             details|          features|  product_attributes|    related_products|product_quantity|\n",
            "+--------+-----------+----------+--------+------+----------+--------------------+--------------------+------------------+--------------------+--------------------+----------------+\n",
            "|       1|        101|    Laptop|       1|1200.0|2023-01-15|  electronics,office|    Serial: A1B2C3D4|   user_123_laptop|{color -> silver,...|Keyboard,Mouse,Mo...|      Laptop (1)|\n",
            "|       2|        102|     Mouse|       2|  25.5|2023-01-15|electronics,acces...|         Model: M500|    user_456_mouse|{color -> black, ...|      Laptop,Monitor|       Mouse (2)|\n",
            "|       3|        101|  Keyboard|       1|  75.0|2023-01-16|electronics,acces...|         SKU: KB-101|   id_789_keyboard|{layout -> US, me...|       Mouse,Monitor|    Keyboard (1)|\n",
            "|       4|        103|   Monitor|       1| 300.0|2023-01-16| electronics,display| DisplaySize: 27inch|  user_123_monitor|{size -> 27, reso...|     Laptop,Keyboard|     Monitor (1)|\n",
            "|       5|        102|Desk Chair|       1| 150.0|2023-01-17|    furniture,office|        Weight: 20kg|    user_456_chair|{material -> mesh...|           Desk,Lamp|  Desk Chair (1)|\n",
            "|       6|        104|      Lamp|       2|  35.0|2023-01-17|  furniture,lighting|       BulbType: LED|       id_abc_lamp|                NULL|     Desk Chair,Desk|        Lamp (2)|\n",
            "|       7|        101|    Laptop|       1|1200.0|2023-01-18|  electronics,office|    Serial: E5F6G7H8|   user_123_laptop|{color -> silver,...|Keyboard,Mouse,Mo...|      Laptop (1)|\n",
            "|       8|        105|  Notebook|       5|   3.0|2023-01-18|   office,stationery|          Pages: 100| user_xyz_notebook|                  {}|          Pen,Pencil|    Notebook (5)|\n",
            "|       9|        103|      Desk|       1| 250.0|2023-01-19|    furniture,office|      Material: Wood|     user_789_desk|    {size -> medium}|     Desk Chair,Lamp|        Desk (1)|\n",
            "|      10|        104|       Pen|      10|   1.5|2023-01-19|   office,stationery|      InkColor: Blue|        id_def_pen|     {color -> blue}|     Notebook,Pencil|        Pen (10)|\n",
            "|      11|        105|    Pencil|      12|   0.5|2023-01-20|   office,stationery|     LeadSize: 0.7mm|   user_xyz_pencil|       {lead -> 0.7}|        Notebook,Pen|     Pencil (12)|\n",
            "|      12|        106|    Tablet|       1| 400.0|2023-01-20|         electronics|      Model: Tab-Pro|   user_abc_tablet|     {os -> Android}|                NULL|      Tablet (1)|\n",
            "|      13|        106| Protector|       1|  15.0|2023-01-20|electronics,acces...|        Type: Screen|user_abc_protector|                  {}|                    |   Protector (1)|\n",
            "|      14|        101|     Mouse|       1|  25.5|2023-01-21|electronics,acces...|         Model: M600|    user_101_mouse|{color -> white, ...|            Keyboard|       Mouse (1)|\n",
            "|      15|        102|    Laptop|       1|1100.0|2023-01-21|  electronics,office| Serial: I9J10K11L12|   user_102_laptop|{color -> black, ...|       Mouse,Monitor|      Laptop (1)|\n",
            "|      16|        103|  Keyboard|       2|  70.0|2023-01-22|electronics,acces...|         SKU: KB-202| user_103_keyboard|{layout -> UK, me...|               Mouse|    Keyboard (2)|\n",
            "|      17|        104|      Desk|       1| 220.0|2023-01-22|    furniture,office|     Material: Metal|     user_104_desk|     {size -> large}|               Chair|        Desk (1)|\n",
            "|      18|        105|      Lamp|       1|  30.0|2023-01-23|  furniture,lighting|BulbType: Incande...|     user_105_lamp|                NULL|                Desk|        Lamp (1)|\n",
            "|      19|        106|  Notebook|       3|   2.5|2023-01-23|   office,stationery|          Pages: 150| user_106_notebook|                  {}|          Pen,Pencil|    Notebook (3)|\n",
            "|      20|        101|   Monitor|       1| 280.0|2023-01-24| electronics,display| DisplaySize: 24inch|  user_101_monitor|{size -> 24, reso...|              Laptop|     Monitor (1)|\n",
            "+--------+-----------+----------+--------+------+----------+--------------------+--------------------+------------------+--------------------+--------------------+----------------+\n",
            "\n"
          ]
        }
      ]
    },
    {
      "cell_type": "code",
      "source": [
        "#Combine the elements of the related_products string into a list using a comma as a separator (you might need split() first).\n",
        "\n",
        "df_combined_product_quantity = practice_df.withColumn(\"related_products\", concat( lit(\"[\"), col(\"related_products\"), lit(\"]\")))\n",
        "df_combined_product_quantity.show()"
      ],
      "metadata": {
        "colab": {
          "base_uri": "https://localhost:8080/"
        },
        "id": "oSWTkm5I65ls",
        "outputId": "e0e5fee9-3d25-421d-a412-c5452cd03bd7"
      },
      "execution_count": 10,
      "outputs": [
        {
          "output_type": "stream",
          "name": "stdout",
          "text": [
            "+--------+-----------+----------+--------+------+----------+--------------------+--------------------+------------------+--------------------+--------------------+\n",
            "|order_id|customer_id|   product|quantity| price|order_date|                tags|             details|          features|  product_attributes|    related_products|\n",
            "+--------+-----------+----------+--------+------+----------+--------------------+--------------------+------------------+--------------------+--------------------+\n",
            "|       1|        101|    Laptop|       1|1200.0|2023-01-15|  electronics,office|    Serial: A1B2C3D4|   user_123_laptop|{color -> silver,...|[Keyboard,Mouse,M...|\n",
            "|       2|        102|     Mouse|       2|  25.5|2023-01-15|electronics,acces...|         Model: M500|    user_456_mouse|{color -> black, ...|    [Laptop,Monitor]|\n",
            "|       3|        101|  Keyboard|       1|  75.0|2023-01-16|electronics,acces...|         SKU: KB-101|   id_789_keyboard|{layout -> US, me...|     [Mouse,Monitor]|\n",
            "|       4|        103|   Monitor|       1| 300.0|2023-01-16| electronics,display| DisplaySize: 27inch|  user_123_monitor|{size -> 27, reso...|   [Laptop,Keyboard]|\n",
            "|       5|        102|Desk Chair|       1| 150.0|2023-01-17|    furniture,office|        Weight: 20kg|    user_456_chair|{material -> mesh...|         [Desk,Lamp]|\n",
            "|       6|        104|      Lamp|       2|  35.0|2023-01-17|  furniture,lighting|       BulbType: LED|       id_abc_lamp|                NULL|   [Desk Chair,Desk]|\n",
            "|       7|        101|    Laptop|       1|1200.0|2023-01-18|  electronics,office|    Serial: E5F6G7H8|   user_123_laptop|{color -> silver,...|[Keyboard,Mouse,M...|\n",
            "|       8|        105|  Notebook|       5|   3.0|2023-01-18|   office,stationery|          Pages: 100| user_xyz_notebook|                  {}|        [Pen,Pencil]|\n",
            "|       9|        103|      Desk|       1| 250.0|2023-01-19|    furniture,office|      Material: Wood|     user_789_desk|    {size -> medium}|   [Desk Chair,Lamp]|\n",
            "|      10|        104|       Pen|      10|   1.5|2023-01-19|   office,stationery|      InkColor: Blue|        id_def_pen|     {color -> blue}|   [Notebook,Pencil]|\n",
            "|      11|        105|    Pencil|      12|   0.5|2023-01-20|   office,stationery|     LeadSize: 0.7mm|   user_xyz_pencil|       {lead -> 0.7}|      [Notebook,Pen]|\n",
            "|      12|        106|    Tablet|       1| 400.0|2023-01-20|         electronics|      Model: Tab-Pro|   user_abc_tablet|     {os -> Android}|                NULL|\n",
            "|      13|        106| Protector|       1|  15.0|2023-01-20|electronics,acces...|        Type: Screen|user_abc_protector|                  {}|                  []|\n",
            "|      14|        101|     Mouse|       1|  25.5|2023-01-21|electronics,acces...|         Model: M600|    user_101_mouse|{color -> white, ...|          [Keyboard]|\n",
            "|      15|        102|    Laptop|       1|1100.0|2023-01-21|  electronics,office| Serial: I9J10K11L12|   user_102_laptop|{color -> black, ...|     [Mouse,Monitor]|\n",
            "|      16|        103|  Keyboard|       2|  70.0|2023-01-22|electronics,acces...|         SKU: KB-202| user_103_keyboard|{layout -> UK, me...|             [Mouse]|\n",
            "|      17|        104|      Desk|       1| 220.0|2023-01-22|    furniture,office|     Material: Metal|     user_104_desk|     {size -> large}|             [Chair]|\n",
            "|      18|        105|      Lamp|       1|  30.0|2023-01-23|  furniture,lighting|BulbType: Incande...|     user_105_lamp|                NULL|              [Desk]|\n",
            "|      19|        106|  Notebook|       3|   2.5|2023-01-23|   office,stationery|          Pages: 150| user_106_notebook|                  {}|        [Pen,Pencil]|\n",
            "|      20|        101|   Monitor|       1| 280.0|2023-01-24| electronics,display| DisplaySize: 24inch|  user_101_monitor|{size -> 24, reso...|            [Laptop]|\n",
            "+--------+-----------+----------+--------+------+----------+--------------------+--------------------+------------------+--------------------+--------------------+\n",
            "\n"
          ]
        }
      ]
    },
    {
      "cell_type": "code",
      "source": [
        "#Explode the product_attributes map to have one row per attribute key-value pair, keeping the order_id and product.\n",
        "\n",
        "from pyspark.sql.functions import explode, map_keys, map_values, explode_outer\n",
        "\n",
        "df_exploded_attributes = practice_df.select(col(\"order_id\"), col(\"product\"), explode_outer(col(\"product_attributes\")).alias(\"att_key\",\"att_values\"))\n",
        "df_exploded_attributes.show()\n"
      ],
      "metadata": {
        "colab": {
          "base_uri": "https://localhost:8080/"
        },
        "id": "i2sHr0_372zT",
        "outputId": "8c1ab435-3d84-44c6-9b0a-db7022f980a2"
      },
      "execution_count": 11,
      "outputs": [
        {
          "output_type": "stream",
          "name": "stdout",
          "text": [
            "+--------+----------+----------+----------+\n",
            "|order_id|   product|   att_key|att_values|\n",
            "+--------+----------+----------+----------+\n",
            "|       1|    Laptop|     color|    silver|\n",
            "|       1|    Laptop|     brand|       XYZ|\n",
            "|       2|     Mouse|     color|     black|\n",
            "|       2|     Mouse|  wireless|      true|\n",
            "|       3|  Keyboard|    layout|        US|\n",
            "|       3|  Keyboard|mechanical|     false|\n",
            "|       4|   Monitor|      size|        27|\n",
            "|       4|   Monitor|resolution|     1080p|\n",
            "|       5|Desk Chair|  material|      mesh|\n",
            "|       5|Desk Chair|adjustable|      true|\n",
            "|       6|      Lamp|      NULL|      NULL|\n",
            "|       7|    Laptop|     color|    silver|\n",
            "|       7|    Laptop|     brand|       XYZ|\n",
            "|       8|  Notebook|      NULL|      NULL|\n",
            "|       9|      Desk|      size|    medium|\n",
            "|      10|       Pen|     color|      blue|\n",
            "|      11|    Pencil|      lead|       0.7|\n",
            "|      12|    Tablet|        os|   Android|\n",
            "|      13| Protector|      NULL|      NULL|\n",
            "|      14|     Mouse|     color|     white|\n",
            "+--------+----------+----------+----------+\n",
            "only showing top 20 rows\n",
            "\n"
          ]
        }
      ]
    },
    {
      "cell_type": "code",
      "source": [
        "#Get a list of all unique attribute keys present in the product_attributes column across all orders.\n",
        "\n",
        "from pyspark.sql.functions import map_keys, map_values\n",
        "\n",
        "df_unique_keys = practice_df.select(map_keys(col(\"product_attributes\"))).distinct()\n",
        "df_unique_keys.show()"
      ],
      "metadata": {
        "colab": {
          "base_uri": "https://localhost:8080/"
        },
        "id": "ucmQbG5d984Q",
        "outputId": "7a43490e-9bf7-4209-ea27-935a71d6b335"
      },
      "execution_count": 13,
      "outputs": [
        {
          "output_type": "stream",
          "name": "stdout",
          "text": [
            "+----------------------------+\n",
            "|map_keys(product_attributes)|\n",
            "+----------------------------+\n",
            "|          [size, resolution]|\n",
            "|        [material, adjust...|\n",
            "|              [color, brand]|\n",
            "|                        NULL|\n",
            "|                          []|\n",
            "|        [layout, mechanical]|\n",
            "|           [color, wireless]|\n",
            "|                     [color]|\n",
            "|                      [size]|\n",
            "|                        [os]|\n",
            "|                      [lead]|\n",
            "+----------------------------+\n",
            "\n"
          ]
        }
      ]
    },
    {
      "cell_type": "code",
      "source": [
        "#Extract the value associated with the key \"color\" from the product_attributes map.\n",
        "\n",
        "from pyspark.sql.functions import col\n",
        "\n",
        "df_color_value = practice_df.select(col(\"order_id\"), col(\"product\"), col(\"product_attributes\").getItem(\"color\").alias(\"color_value\"))\n",
        "df_color_value.show()"
      ],
      "metadata": {
        "colab": {
          "base_uri": "https://localhost:8080/"
        },
        "id": "SIGOcs7ZQiH7",
        "outputId": "9cb2ff0d-ec88-46d8-f8bc-d029fb915c21"
      },
      "execution_count": 15,
      "outputs": [
        {
          "output_type": "stream",
          "name": "stdout",
          "text": [
            "+--------+----------+-----------+\n",
            "|order_id|   product|color_value|\n",
            "+--------+----------+-----------+\n",
            "|       1|    Laptop|     silver|\n",
            "|       2|     Mouse|      black|\n",
            "|       3|  Keyboard|       NULL|\n",
            "|       4|   Monitor|       NULL|\n",
            "|       5|Desk Chair|       NULL|\n",
            "|       6|      Lamp|       NULL|\n",
            "|       7|    Laptop|     silver|\n",
            "|       8|  Notebook|       NULL|\n",
            "|       9|      Desk|       NULL|\n",
            "|      10|       Pen|       blue|\n",
            "|      11|    Pencil|       NULL|\n",
            "|      12|    Tablet|       NULL|\n",
            "|      13| Protector|       NULL|\n",
            "|      14|     Mouse|      white|\n",
            "|      15|    Laptop|      black|\n",
            "|      16|  Keyboard|       NULL|\n",
            "|      17|      Desk|       NULL|\n",
            "|      18|      Lamp|       NULL|\n",
            "|      19|  Notebook|       NULL|\n",
            "|      20|   Monitor|       NULL|\n",
            "+--------+----------+-----------+\n",
            "\n"
          ]
        }
      ]
    },
    {
      "cell_type": "code",
      "source": [
        "#For each customer_id, create a list of all products they have ordered (collect_list).\n",
        "\n",
        "from pyspark.sql.functions import collect_list\n",
        "\n",
        "df_customer_products = practice_df.groupBy(\"customer_id\").agg(collect_list(\"product\").alias(\"products_ordered\"))\n",
        "df_customer_products.show()"
      ],
      "metadata": {
        "colab": {
          "base_uri": "https://localhost:8080/"
        },
        "id": "B5lNWncJQvEk",
        "outputId": "ee10c76d-5d90-4141-8d89-3529e3399ddf"
      },
      "execution_count": 16,
      "outputs": [
        {
          "output_type": "stream",
          "name": "stdout",
          "text": [
            "+-----------+--------------------+\n",
            "|customer_id|    products_ordered|\n",
            "+-----------+--------------------+\n",
            "|        101|[Laptop, Keyboard...|\n",
            "|        103|[Monitor, Desk, K...|\n",
            "|        102|[Mouse, Desk Chai...|\n",
            "|        105|[Notebook, Pencil...|\n",
            "|        104|   [Lamp, Pen, Desk]|\n",
            "|        106|[Tablet, Protecto...|\n",
            "+-----------+--------------------+\n",
            "\n"
          ]
        }
      ]
    },
    {
      "cell_type": "code",
      "source": [
        "#For each customer_id, create a set of unique products they have ordered (collect_set).\n",
        "\n",
        "from pyspark.sql.functions import collect_set\n",
        "\n",
        "df_customer_unique_products = practice_df.groupBy(\"customer_id\").agg(collect_set(\"product\").alias(\"unique_products_ordered\"))\n",
        "df_customer_unique_products.show()"
      ],
      "metadata": {
        "colab": {
          "base_uri": "https://localhost:8080/"
        },
        "id": "8HZ7KMOAROhs",
        "outputId": "42df59ec-c2ef-4e59-836c-bb57fb32e4ac"
      },
      "execution_count": 17,
      "outputs": [
        {
          "output_type": "stream",
          "name": "stdout",
          "text": [
            "+-----------+-----------------------+\n",
            "|customer_id|unique_products_ordered|\n",
            "+-----------+-----------------------+\n",
            "|        101|   [Keyboard, Laptop...|\n",
            "|        103|   [Keyboard, Desk, ...|\n",
            "|        102|   [Mouse, Laptop, D...|\n",
            "|        105|   [Pencil, Notebook...|\n",
            "|        104|      [Desk, Pen, Lamp]|\n",
            "|        106|   [Notebook, Tablet...|\n",
            "+-----------+-----------------------+\n",
            "\n"
          ]
        }
      ]
    },
    {
      "cell_type": "code",
      "source": [
        "#Take a random sample of 20% of the rows from the DataFrame.\n",
        "\n",
        "from pyspark.sql.functions import rand\n",
        "from pyspark.sql.functions import rand\n",
        "\n",
        "df_random_sample = practice_df.sample(withReplacement=False, fraction=0.2, seed=42)\n",
        "df_random_sample.show()"
      ],
      "metadata": {
        "colab": {
          "base_uri": "https://localhost:8080/"
        },
        "id": "NrFs3S_5RZyR",
        "outputId": "e4b867ab-f92a-4676-c28b-57f74a744544"
      },
      "execution_count": 28,
      "outputs": [
        {
          "output_type": "stream",
          "name": "stdout",
          "text": [
            "+--------+-----------+--------+--------+-----+----------+-------------------+-------------------+-----------------+--------------------+----------------+\n",
            "|order_id|customer_id| product|quantity|price|order_date|               tags|            details|         features|  product_attributes|related_products|\n",
            "+--------+-----------+--------+--------+-----+----------+-------------------+-------------------+-----------------+--------------------+----------------+\n",
            "|       8|        105|Notebook|       5|  3.0|2023-01-18|  office,stationery|         Pages: 100|user_xyz_notebook|                  {}|      Pen,Pencil|\n",
            "|      20|        101| Monitor|       1|280.0|2023-01-24|electronics,display|DisplaySize: 24inch| user_101_monitor|{size -> 24, reso...|          Laptop|\n",
            "+--------+-----------+--------+--------+-----+----------+-------------------+-------------------+-----------------+--------------------+----------------+\n",
            "\n"
          ]
        }
      ]
    },
    {
      "cell_type": "code",
      "source": [
        "#Find the total quantity of products ordered for each unique tag.\n",
        "\n",
        "from pyspark.sql.functions import col, explode, split, sum\n",
        "\n",
        "df_tag_quantity = practice_df.select(col(\"order_id\"), explode(split(col(\"tags\"), \",\")).alias(\"tag\"), col(\"quantity\"))\n",
        "df_tag_quantity.show()\n",
        "df_tag_quantity_sum = df_tag_quantity.groupBy(\"tag\").agg(sum(\"quantity\").alias(\"total_quantity\"))\n",
        "df_tag_quantity_sum.show()"
      ],
      "metadata": {
        "colab": {
          "base_uri": "https://localhost:8080/"
        },
        "id": "cBHXofNSVdIw",
        "outputId": "f78d7025-72e7-45c8-d7d6-cce1290cafcb"
      },
      "execution_count": 25,
      "outputs": [
        {
          "output_type": "stream",
          "name": "stdout",
          "text": [
            "+--------+-----------+--------+\n",
            "|order_id|        tag|quantity|\n",
            "+--------+-----------+--------+\n",
            "|       1|electronics|       1|\n",
            "|       1|     office|       1|\n",
            "|       2|electronics|       2|\n",
            "|       2|  accessory|       2|\n",
            "|       3|electronics|       1|\n",
            "|       3|  accessory|       1|\n",
            "|       4|electronics|       1|\n",
            "|       4|    display|       1|\n",
            "|       5|  furniture|       1|\n",
            "|       5|     office|       1|\n",
            "|       6|  furniture|       2|\n",
            "|       6|   lighting|       2|\n",
            "|       7|electronics|       1|\n",
            "|       7|     office|       1|\n",
            "|       8|     office|       5|\n",
            "|       8| stationery|       5|\n",
            "|       9|  furniture|       1|\n",
            "|       9|     office|       1|\n",
            "|      10|     office|      10|\n",
            "|      10| stationery|      10|\n",
            "+--------+-----------+--------+\n",
            "only showing top 20 rows\n",
            "\n",
            "+-----------+--------------+\n",
            "|        tag|total_quantity|\n",
            "+-----------+--------------+\n",
            "|     office|            36|\n",
            "|    display|             2|\n",
            "| stationery|            30|\n",
            "|   lighting|             3|\n",
            "|  furniture|             6|\n",
            "|electronics|            13|\n",
            "|  accessory|             7|\n",
            "+-----------+--------------+\n",
            "\n"
          ]
        }
      ]
    },
    {
      "cell_type": "code",
      "source": [],
      "metadata": {
        "id": "8pOjWhoRVu_5"
      },
      "execution_count": null,
      "outputs": []
    }
  ]
}